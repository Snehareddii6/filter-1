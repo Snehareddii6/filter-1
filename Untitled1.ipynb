{
  "nbformat": 4,
  "nbformat_minor": 0,
  "metadata": {
    "colab": {
      "provenance": []
    },
    "kernelspec": {
      "name": "python3",
      "display_name": "Python 3"
    },
    "language_info": {
      "name": "python"
    }
  },
  "cells": [
    {
      "cell_type": "code",
      "execution_count": 1,
      "metadata": {
        "colab": {
          "base_uri": "https://localhost:8080/"
        },
        "id": "UEAQ3L1ahNoL",
        "outputId": "25892b92-78ef-4b7f-f78c-36de5f0643f0"
      },
      "outputs": [
        {
          "output_type": "stream",
          "name": "stdout",
          "text": [
            "[2, 4]\n"
          ]
        }
      ],
      "source": [
        "L=[1,2,3,4]\n",
        "def fun(a):\n",
        "      return a%2==0\n",
        "\n",
        "list2 =filter(fun,L)\n",
        "result =list(list2)\n",
        "print(result)"
      ]
    },
    {
      "cell_type": "code",
      "source": [],
      "metadata": {
        "id": "2M_LCUtOmIBg"
      },
      "execution_count": null,
      "outputs": []
    },
    {
      "cell_type": "code",
      "source": [],
      "metadata": {
        "id": "UzGBETVcl9kO"
      },
      "execution_count": null,
      "outputs": []
    }
  ]
}